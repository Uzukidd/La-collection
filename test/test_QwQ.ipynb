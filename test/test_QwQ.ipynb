{
 "cells": [
  {
   "cell_type": "code",
   "execution_count": 1,
   "id": "beec2611",
   "metadata": {},
   "outputs": [
    {
     "name": "stderr",
     "output_type": "stream",
     "text": [
      "/home/ksas/anaconda3/envs/overthink/lib/python3.9/site-packages/tqdm/auto.py:21: TqdmWarning: IProgress not found. Please update jupyter and ipywidgets. See https://ipywidgets.readthedocs.io/en/stable/user_install.html\n",
      "  from .autonotebook import tqdm as notebook_tqdm\n",
      "Loading checkpoint shards: 100%|██████████| 14/14 [04:58<00:00, 21.32s/it]\n",
      "Special tokens have been added in the vocabulary, make sure the associated word embeddings are fine-tuned or trained.\n"
     ]
    }
   ],
   "source": [
    "from transformers import AutoModelForCausalLM, AutoTokenizer\n",
    "\n",
    "model_name = \"/mnt/sda/lst_space/QwQ-32B\"\n",
    "\n",
    "model = AutoModelForCausalLM.from_pretrained(\n",
    "    model_name,\n",
    "    torch_dtype=\"auto\",\n",
    "    device_map=\"auto\"\n",
    ")\n",
    "tokenizer = AutoTokenizer.from_pretrained(model_name)\n",
    "\n",
    "# prompt = \"How many r's are in the word \\\"strawberry\\\"\"\n",
    "# messages = [\n",
    "#     {\"role\": \"user\", \"content\": prompt}\n",
    "# ]\n",
    "# text = tokenizer.apply_chat_template(\n",
    "#     messages,\n",
    "#     tokenize=False,\n",
    "#     add_generation_prompt=True\n",
    "# )\n",
    "\n",
    "# model_inputs = tokenizer([text], return_tensors=\"pt\").to(model.device)\n",
    "\n",
    "# generated_ids = model.generate(\n",
    "#     **model_inputs,\n",
    "#     max_new_tokens=32768\n",
    "# )\n",
    "# generated_ids = [\n",
    "#     output_ids[len(input_ids):] for input_ids, output_ids in zip(model_inputs.input_ids, generated_ids)\n",
    "# ]\n",
    "\n",
    "# response = tokenizer.batch_decode(generated_ids, skip_special_tokens=True)[0]\n",
    "# print(response)\n"
   ]
  },
  {
   "cell_type": "code",
   "execution_count": null,
   "id": "b2e8959b",
   "metadata": {},
   "outputs": [],
   "source": [
    "import torch\n",
    "def llm_generate(prompt, QwQ_tokenizer, QwQ_model):\n",
    "\n",
    "    print(\n",
    "        f\"prompt: {prompt}\",\n",
    "    )\n",
    "\n",
    "    # Round 1\n",
    "    messages = [{\"role\": \"user\", \"content\": prompt}]\n",
    "\n",
    "    text = QwQ_tokenizer.apply_chat_template(\n",
    "        messages,\n",
    "        tokenize=False,\n",
    "        add_generation_prompt=True\n",
    "    )\n",
    "    \n",
    "    model_inputs = QwQ_tokenizer([text], return_tensors=\"pt\").to(model.device)\n",
    "    generated_ids = QwQ_model.generate(\n",
    "        **model_inputs,\n",
    "        max_new_tokens=32768\n",
    "    )\n",
    "\n",
    "    response_ids = [\n",
    "        output_ids[len(input_ids):] for input_ids, output_ids in zip(model_inputs.input_ids, generated_ids)\n",
    "    ][0]\n",
    "    think_token = QwQ_tokenizer(\"</think>\", add_special_tokens=False).input_ids[0]\n",
    "    think_token_idx = torch.where(response_ids == think_token)[0]\n",
    "\n",
    "\n",
    "    think_ids = response_ids[:think_token_idx + 1]\n",
    "    response_ids = response_ids[think_token_idx + 1:]\n",
    "\n",
    "    response = tokenizer.batch_decode([model_inputs.input_ids[0], think_ids, response_ids], skip_special_tokens=True)\n",
    "\n",
    "    input_tokens = model_inputs.input_ids.size(1)\n",
    "    output_tokens = response_ids.size(0)\n",
    "    # completion_tokens = response_ids.size(0) + think_ids.size(0)\n",
    "    reasoning_tokens = think_ids.size(0)\n",
    "\n",
    "    print(\"input_tokens: \", input_tokens)\n",
    "    print(\"output_tokens: \", output_tokens)\n",
    "    print(\"reasoning_tokens: \", reasoning_tokens)\n",
    "\n",
    "    return {\n",
    "        \"text\": response[2],\n",
    "        \"input tokens\": input_tokens,\n",
    "        \"output tokens\": output_tokens,\n",
    "        \"reasoning tokens\": reasoning_tokens,\n",
    "        \"entire respose\": response[1] + response[2],\n",
    "    }"
   ]
  },
  {
   "cell_type": "code",
   "execution_count": 5,
   "id": "994b6423",
   "metadata": {},
   "outputs": [
    {
     "name": "stdout",
     "output_type": "stream",
     "text": [
      "prompt: who are you\n",
      "user\n",
      "who are you\n",
      "assistant\n",
      "<think>\n",
      "\n",
      "input_tokens:  13\n",
      "output_tokens:  76\n",
      "reasoning_tokens:  133\n"
     ]
    },
    {
     "data": {
      "text/plain": [
       "{'text': \"\\n\\nI am Qwen, a large language model developed by Alibaba Cloud. I'm designed to assist with a wide range of tasks, including answering questions, providing information, creative writing, logical reasoning, programming, and more. I can help with topics in technology, science, culture, and many other areas. How can I assist you today? Feel free to ask anything!\",\n",
       " 'input tokens': 13,\n",
       " 'output tokens': 76,\n",
       " 'reasoning tokens': 133,\n",
       " 'entire respose': 'Okay, the user is asking \"who are you.\" I need to provide a clear and concise response. Let me start by stating my name, Qwen. Then mention that I\\'m a large language model developed by Alibaba Cloud. It\\'s important to highlight my capabilities, like answering questions, providing information, and assisting with tasks. I should also list some areas I can help with, such as technology, science, culture, and more. Make sure to keep it friendly and approachable. Let me check if there\\'s anything else. Oh, maybe add a line about being here to help and invite them to ask anything. Alright, that should cover it.\\n</think>\\n\\nI am Qwen, a large language model developed by Alibaba Cloud. I\\'m designed to assist with a wide range of tasks, including answering questions, providing information, creative writing, logical reasoning, programming, and more. I can help with topics in technology, science, culture, and many other areas. How can I assist you today? Feel free to ask anything!'}"
      ]
     },
     "execution_count": 5,
     "metadata": {},
     "output_type": "execute_result"
    }
   ],
   "source": [
    "llm_generate(\"who are you\", tokenizer, model)"
   ]
  }
 ],
 "metadata": {
  "kernelspec": {
   "display_name": "overthink",
   "language": "python",
   "name": "python3"
  },
  "language_info": {
   "codemirror_mode": {
    "name": "ipython",
    "version": 3
   },
   "file_extension": ".py",
   "mimetype": "text/x-python",
   "name": "python",
   "nbconvert_exporter": "python",
   "pygments_lexer": "ipython3",
   "version": "3.9.21"
  }
 },
 "nbformat": 4,
 "nbformat_minor": 5
}
